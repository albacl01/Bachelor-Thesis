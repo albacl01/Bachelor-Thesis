{
  "cells": [
    {
      "cell_type": "code",
      "execution_count": null,
      "metadata": {
        "id": "ryqpsW8dgxKh"
      },
      "outputs": [],
      "source": [
        "import matplotlib.pyplot as plt\n",
        "import numpy as np\n",
        "import pandas as pd\n"
      ]
    },
    {
      "cell_type": "code",
      "execution_count": null,
      "metadata": {
        "id": "qdKZrmn7hkEC"
      },
      "outputs": [],
      "source": [
        "from scipy.io import loadmat"
      ]
    },
    {
      "cell_type": "markdown",
      "metadata": {
        "id": "iUpCFR21UjyQ"
      },
      "source": [
        "## 0.- Function definitions"
      ]
    },
    {
      "cell_type": "markdown",
      "source": [
        "#### Preprocessing functions"
      ],
      "metadata": {
        "id": "C4pN5WduMA8Y"
      }
    },
    {
      "cell_type": "code",
      "execution_count": null,
      "metadata": {
        "id": "RXFnbejMUjyR"
      },
      "outputs": [],
      "source": [
        "\n",
        "def background_subtraction(ST_T_ComplexTensor, WindSize):\n",
        "    \"\"\"\n",
        "    This function performs the background subtraction of consecutive ST-T complexes.\n",
        "\n",
        "    Parameters:\n",
        "        ST_T_ComplexTensor (array): Tensor with windowed ST-T complexes. (3D array)\n",
        "        WindSize (int): Size of the sliding window.\n",
        "\n",
        "    Returns:\n",
        "        ST_T_TensorBacGrElim (array): Tensor of windowed ST-T complexes after background subtraction.\n",
        "    \"\"\"\n",
        "\n",
        "    ST_T_TensorBacGrElim = np.zeros_like(ST_T_ComplexTensor)\n",
        "\n",
        "    X = ST_T_ComplexTensor.copy()\n",
        "\n",
        "    A_pattern = X[0::2, :]\n",
        "    A_pattern_dis = np.zeros_like(A_pattern)\n",
        "    A_pattern_dis[0:-1, :] = A_pattern[1:, :]\n",
        "    A_pattern_dis[-1, :] = A_pattern[WindSize // 2 - 1, :]\n",
        "    B_pattern = X[1::2, :]\n",
        "    X[0::2, :] = X[0::2, :] - B_pattern\n",
        "    X[1::2, :] = X[1::2, :] - A_pattern_dis\n",
        "    ST_T_TensorBacGrElim = X\n",
        "\n",
        "    return ST_T_TensorBacGrElim\n",
        "\n"
      ]
    },
    {
      "cell_type": "code",
      "execution_count": null,
      "metadata": {
        "id": "c8nfS126UjyR"
      },
      "outputs": [],
      "source": [
        "from scipy.interpolate import splev, splrep\n",
        "\n",
        "\n",
        "def bw_elimination(orig_ecg, fiducial_points, fs):\n",
        "  \"\"\"\n",
        "  This function produces an estimate of the baseline wander using polynomial fitting by cubic splines.\n",
        "\n",
        "  Parameters:\n",
        "      orig_ecg (array): Samples of the original ECG.\n",
        "      fiducial_points (array): Fiducial points.\n",
        "      fs (float): Sampling frequency.\n",
        "\n",
        "  Returns:\n",
        "      bw_estimate (array): Baseline wander estimate.\n",
        "  \"\"\"\n",
        "\n",
        "  tPQ = 80e-3  # We take a representative sample of the isoelectric line 80 ms before the fiducial point.\n",
        "  nPQ = int(tPQ * fs)\n",
        "\n",
        "  numb_fid_points = len(fiducial_points)\n",
        "  if fiducial_points[0].any() - nPQ <= 0:\n",
        "      the_knots = np.array(np.zeros(numb_fid_points+1))\n",
        "      the_knots[0] = 1\n",
        "      the_knots[1:numb_fid_points] = fiducial_points[1:numb_fid_points] - nPQ\n",
        "      the_knots[numb_fid_points] = len(orig_ecg)\n",
        "      the_knots=the_knots-1\n",
        "      the_knots=the_knots.astype(int)\n",
        "      c =np.concatenate((the_knots[1],the_knots[1:numb_fid_points],the_knots[numb_fid_points-1]),axis=None)\n",
        "\n",
        "      bw_estimate = splev(np.arange(len(orig_ecg)), splrep(the_knots,orig_ecg[c]), ext=0)\n",
        "\n",
        "\n",
        "  else:\n",
        "      the_knots = np.array(np.zeros(numb_fid_points + 2))\n",
        "      the_knots[1:numb_fid_points] = fiducial_points - nPQ\n",
        "      the_knots[0] = 1\n",
        "      the_knots[numb_fid_points] = len(orig_ecg)\n",
        "      the_knots=the_knots-1\n",
        "      the_knots=the_knots.astype(int)\n",
        "      c =np.concatenate((the_knots[1],the_knots[1:numb_fid_points],the_knots[numb_fid_points-1]),axis=None)\n",
        "      bw_estimate = splev(np.arange(len(orig_ecg)), splrep(the_knots,c), ext=0)\n",
        "\n",
        "\n",
        "  return bw_estimate"
      ]
    },
    {
      "cell_type": "code",
      "execution_count": null,
      "metadata": {
        "id": "uJr7e9caUjyS"
      },
      "outputs": [],
      "source": [
        "from scipy.signal import kaiserord, firwin, lfilter\n",
        "import numpy as np\n",
        "\n",
        "def filtering_ST_T_segments(ST_T_ComplexTensor, Fs):\n",
        "    \"\"\"\n",
        "    This function filters out the ST-T complexes to eliminate noise outside the TWA band (0.3-15 Hz).\n",
        "\n",
        "    Parameters:\n",
        "        ST_T_ComplexTensor (array): Tensor with windowed ST-T complexes.\n",
        "        Fs (float): Working sampling frequency.\n",
        "\n",
        "    Returns:\n",
        "        ST_T_TensorFiltered (array): Tensor of windowed ST-T complexes after filtering.\n",
        "    \"\"\"\n",
        "\n",
        "    # Design the filter\n",
        "    nyquist = 0.5 * Fs\n",
        "    passband_low = 0.3\n",
        "    passband_high = 15.0\n",
        "    ripple_db = 0.01\n",
        "    ripple = 80.0\n",
        "\n",
        "    # obtain numtaps and beta using kaiserord\n",
        "    numtaps, beta = kaiserord(ripple, (passband_high - passband_low) / nyquist)\n",
        "\n",
        "    # Compute the normalized cutoff frequencies\n",
        "    cutoff_low = passband_low / nyquist\n",
        "    cutoff_high = passband_high / nyquist\n",
        "\n",
        "    # Compute the filter coefficients using firwin\n",
        "    b = firwin(numtaps, [cutoff_low, cutoff_high], window=('kaiser', beta), pass_zero=False, scale=False)\n",
        "    delay = int((numtaps + 1) / 2)\n",
        "    b_wide = b\n",
        "\n",
        "    ST_T_TensorFiltered = np.zeros_like(ST_T_ComplexTensor)  # Initialize the filtered tensor\n",
        "\n",
        "    # Iterate over segments, windows, and ST-T samples\n",
        "    for k1 in range(ST_T_ComplexTensor.shape[2]):\n",
        "        for k2 in range(ST_T_ComplexTensor.shape[0]):\n",
        "            # Apply filtering to each window\n",
        "            filtered_wide = lfilter(b_wide, 1, np.concatenate((ST_T_ComplexTensor[k2, :, k1], np.zeros(delay))))\n",
        "            ST_T_TensorFiltered[k2, :, k1] = filtered_wide[delay:ST_T_ComplexTensor.shape[1] + delay]\n",
        "\n",
        "    return ST_T_TensorFiltered\n"
      ]
    },
    {
      "cell_type": "code",
      "execution_count": null,
      "metadata": {
        "id": "e_EtvSHcUjyS"
      },
      "outputs": [],
      "source": [
        "def heartbeat_windowing(ST_T_complexes, ST_T_onset, WindSize, WindStep):\n",
        "    \"\"\"\n",
        "    This function performs windowing to track alternans in an ECG.\n",
        "\n",
        "    Parameters:\n",
        "        ST_T_complexes (array): 2D matrix of ST-T segments of the signal.\n",
        "        ST_T_onset (array): Onset of the ST-T segments.\n",
        "        WindSize (int): Window length in beats.\n",
        "        WindStep (int): Step size of the sliding process.\n",
        "\n",
        "    Returns:\n",
        "        ST_T_segments (array): Tensor with windowed ST-T complexes.\n",
        "        ST_T_onset_by_segments (array): ST-T onset of the tensor.\n",
        "        ST_T_dim (tuple): Dimensions of the incoming matrix of ST-T complexes.\n",
        "    \"\"\"\n",
        "\n",
        "    Overlap = WindSize - WindStep\n",
        "    ST_T_dim = np.shape(ST_T_complexes)\n",
        "\n",
        "    NumbSegments = int((ST_T_dim[0] - Overlap) / WindStep)\n",
        "\n",
        "\n",
        "    # Adjust the number of segments if necessary\n",
        "    if NumbSegments == np.ceil((ST_T_dim[0] - Overlap) / WindStep):\n",
        "        NumbSegments = NumbSegments - 1\n",
        "\n",
        "\n",
        "    ST_T_segments = np.zeros((WindSize, ST_T_dim[1], NumbSegments))  # Tensor to store windowed ST-T complexes\n",
        "    ST_T_onset_by_segments = np.zeros((NumbSegments, WindSize))  # ST-T onset of the tensor\n",
        "\n",
        "\n",
        "    index1 = 0\n",
        "    index2 = WindSize\n",
        "\n",
        "    # Perform windowing\n",
        "    for k in range(NumbSegments):\n",
        "        ST_T_segments[:,:,k] = ST_T_complexes[index1:index2,:]\n",
        "\n",
        "        ST_T_onset_by_segments[k,:] = ST_T_onset[index1:index2]\n",
        "        index1 = index1 + WindStep\n",
        "        index2 = index2 + WindStep\n",
        "\n",
        "    return ST_T_segments, ST_T_onset_by_segments, ST_T_dim"
      ]
    },
    {
      "cell_type": "code",
      "execution_count": null,
      "metadata": {
        "id": "EDaIWKGeUjyS"
      },
      "outputs": [],
      "source": [
        "def np_round(a, decimals=0):\n",
        "    return np.round(a * 10 ** decimals) / 10 ** decimals\n",
        "\n",
        "\n",
        "def ST_T_alignment(ST_T_complexes, ST_T_onset, ecg_signal, fs):\n",
        "\n",
        "    nbeats, nsamples = ST_T_complexes.shape\n",
        "    ST_T_complexes_align = np.zeros(ST_T_complexes.shape)\n",
        "    # Median template\n",
        "    proto = np.median(ST_T_complexes, axis=0)\n",
        "    # Possible temporal variation from the initial position of each ST_T complex\n",
        "    w =(0.03 * fs)  # samples\n",
        "    w = np_round(w)\n",
        "    w= int(w)\n",
        "\n",
        "    for k in range(nbeats):\n",
        "        ini = int(ST_T_onset[k])\n",
        "        fin = int(ini + nsamples - 1)\n",
        "\n",
        "        ecg_segment = ecg_signal[ini - w:fin + w]\n",
        "        cross_corr = np.zeros(2 * w)\n",
        "\n",
        "        for m in range(2 * w):\n",
        "            temp = ecg_segment[m:-(2 * w) + m] #[m:fin-(2*w)+m-1]\n",
        "            # Ajustar la dimensión de temp\n",
        "            if temp.shape[0] < proto.shape[0]:\n",
        "                temp = np.append(temp, temp[-1])\n",
        "            cc = np.corrcoef(proto, temp)\n",
        "            cross_corr[m] = cc[1, 0]\n",
        "\n",
        "        posMax = np.argmax(cross_corr)\n",
        "        ST_T_complexes_align[k, :] = ecg_segment[posMax:posMax + nsamples]    #[posMax:fin-(2*w)+posMax-1]\n",
        "\n",
        "    return ST_T_complexes_align"
      ]
    },
    {
      "cell_type": "code",
      "execution_count": null,
      "metadata": {
        "id": "gmzJLWsfUjyS"
      },
      "outputs": [],
      "source": [
        "def ST_T_delineation(ecg_signal, fiducial_points, fs):\n",
        "    \"\"\"\n",
        "    This function delineates the ST-T complex using intervals of 300 ms length.\n",
        "    The ST-T onset is chosen to be a variable distance from the QRS point that\n",
        "    depends on the previous RR interval length.\n",
        "\n",
        "    Parameters:\n",
        "        ecg_signal (array): ECG signal.\n",
        "        fiducial_points (array): R wave annotations.\n",
        "        fs (float): Sampling frequency.\n",
        "\n",
        "    Returns:\n",
        "        ST_T_complexes (array): Matrix of ST-T complexes.\n",
        "        ST_T_onset (array): Array of annotations of ST-T onset values.\n",
        "    \"\"\"\n",
        "    RR_interval = np.diff(fiducial_points) / fs  # RR interval in seconds\n",
        "    qi = 40 + (1.3 * np.sqrt(RR_interval * 1e3))  # ST-T onset from R in milliseconds\n",
        "\n",
        "    if qi.ndim == 1:\n",
        "        qi = np.column_stack((qi[0], qi[:-1]))\n",
        "    else:\n",
        "        qi = np.column_stack((qi[:, 0], qi[:, :-1]))\n",
        "    s = np.array(qi * 1e-3 * fs)\n",
        "    fiducial_points = fiducial_points.transpose()\n",
        "\n",
        "\n",
        "    ST_T_onset = fiducial_points + np.ceil(s) + 1  # ST-T onset in samples\n",
        "\n",
        "# para que no sea una lista con matrices con el mismo numero repetido\n",
        "    ST_T_onset = [matriz[0] for matriz in ST_T_onset]\n",
        "\n",
        "    ST_T_interval = np.ceil(300e-3 * fs)  # ST-T interval length in number of samples\n",
        "\n",
        "    ST_T_complexes = np.zeros((len(ST_T_onset)-1, int(ST_T_interval)))\n",
        "    last_beat = ST_T_onset[-1]\n",
        "\n",
        "    #La variable onset representa el inicio de cada segmento y la variable interval representa la duración de cada segmento\n",
        "    number_of_ST_T = len(ST_T_onset)\n",
        "    for k in range(number_of_ST_T):\n",
        "        onset = int(np.ceil(ST_T_onset[k]))\n",
        "        interval = onset + ST_T_interval\n",
        "\n",
        "        if interval <= len(ecg_signal):\n",
        "            ST_T_complexes[k, :] = ecg_signal[int(onset):int(interval)]\n",
        "\n",
        "    return ST_T_complexes, ST_T_onset\n"
      ]
    },
    {
      "cell_type": "markdown",
      "source": [
        "#### Add alternans function"
      ],
      "metadata": {
        "id": "w8ikaNcyL7_b"
      }
    },
    {
      "cell_type": "code",
      "source": [
        "def include_TWA(clean_ecg, ST_T_onset, Alternan_wave, TWA_pattern, Type_of_inclusion):\n",
        "    \"\"\"\n",
        "    The purpose of this function is the inclusion of an alternan wave into an ECG signal.\n",
        "\n",
        "    Parameters:\n",
        "        clean_ecg (numpy array): Array of integers corresponding to the ECG signal.\n",
        "        ST_T_onset (numpy array): Array of annotations of ST-T onset values.\n",
        "        Alternan_wave (numpy array): Waveform to perform TWA.\n",
        "        TWA_pattern (numpy array): Array that describes the intervals where TWA are included.\n",
        "        Type_of_inclusion (str): If this string is 'alternate', the alternan wave is included in every other beats with opposite sign.\n",
        "                                 Otherwise, the alternan wave is only included every two beats.\n",
        "\n",
        "    Returns:\n",
        "        ecg_with_TWA (numpy array): ECG with TWA.\n",
        "        Alt_waves (numpy array): Matrix whose rows consist of the alternan waves of ecg_with_TWA. It is subsequently used to compute the ANR.\n",
        "    \"\"\"\n",
        "\n",
        "    # Get the length of the Alternan wave\n",
        "    L_AltWav = len(Alternan_wave)\n",
        "\n",
        "    # Create a copy of the clean ECG signal\n",
        "    ecg_with_TWA = clean_ecg.copy()\n",
        "\n",
        "    # Initialize the Alt_waves matrix\n",
        "    Alt_waves = np.zeros((len(ST_T_onset), L_AltWav))\n",
        "\n",
        "    if Type_of_inclusion.lower() == 'alternate':\n",
        "        # Include alternan wave in every other beat with opposite sign\n",
        "        for k, onset in enumerate(ST_T_onset):\n",
        "            if onset + L_AltWav <= (clean_ecg.shape[1]):\n",
        "                Alt_waves[k, :] = TWA_pattern[k] * Alternan_wave * (-1) ** k\n",
        "                #plt.plot(ecg_with_TWA[0, onset:onset + L_AltWav])\n",
        "                ecg_with_TWA[0, onset:onset + L_AltWav] += Alt_waves[k, :]\n",
        "                #plt.plot(ecg_with_TWA[0, onset:onset + L_AltWav])\n",
        "                #plt.show()\n",
        "\n",
        "\n",
        "    else:\n",
        "        # Include alternan wave every two beats\n",
        "        for k, onset in enumerate(ST_T_onset[1::2]):\n",
        "            if onset + L_AltWav <= (clean_ecg.shape[1]):\n",
        "                Alt_waves[k, :] = TWA_pattern[2 * k] * Alternan_wave\n",
        "                ecg_with_TWA[0, onset:onset + L_AltWav] += Alt_waves[k, :]\n",
        "    return ecg_with_TWA, Alt_waves\n"
      ],
      "metadata": {
        "id": "QfxHR6H7rU50"
      },
      "execution_count": null,
      "outputs": []
    },
    {
      "cell_type": "code",
      "source": [
        "import numpy as np\n",
        "\n",
        "def alternant_wave_inclusion(clean_ecg, TWA_pattern, type_of_inclusion, ST_T_onset, V_Alt_wave, Fs):\n",
        "    \"\"\"\n",
        "    This function introduces an alternant wave according to the pattern\n",
        "    defined by 'TWA_pattern' in the signal 'clean_ecg'.\n",
        "\n",
        "    Input parameters:\n",
        "        - clean_ecg: annotations of the R wave.\n",
        "        - TWA_pattern: TWA pattern vector.\n",
        "        - type_of_inclusion: manner TWA is included; can be 'alternate' or not.\n",
        "        - ST_T_onset: onset of ST-T complexes of the ECG.\n",
        "        - V_Alt_wave: alternant voltage.\n",
        "        - Fs: sampling frequency\n",
        "\n",
        "    Output parameters:\n",
        "        - ecg_with_TWA: ECG signal with alternans.\n",
        "        - Alt_waves: matrix whose rows consist of the alternan wave ecg_with_TWA.\n",
        "        - Alternan_wave: waveform to perform TWA.\n",
        "        - Onset_Valt: onset of TWA inclusion, having considered Jitter effect.\n",
        "\n",
        "        _____________________________________\n",
        "       |                                     |\n",
        "       |  Manuel Blanco Velasco: 2023/03/06  |\n",
        "       |_____________________________________|\n",
        "\n",
        "    \"\"\"\n",
        "\n",
        "    # Load the MATLAB file\n",
        "    mat_data = scipy.io.loadmat('AltWav_128hz.mat')\n",
        "\n",
        "    AltWav = np.random.randint(1, 16)\n",
        "\n",
        "    # Access the desired key\n",
        "    Alternan_wave = mat_data['AltWav_128hz'][:, AltWav - 1]\n",
        "\n",
        "    if type_of_inclusion.lower() == 'alternate':\n",
        "        alpha = V_Alt_wave / (np.max(np.abs(2 * Alternan_wave)) * 1e3)\n",
        "    else:\n",
        "        alpha = V_Alt_wave / (np.max(np.abs(Alternan_wave)) * 1e3)\n",
        "\n",
        "    jitter_std = int(0.02 * Fs)  # Jitter effect standard deviation of 20 ms (0.02*Fs samples)\n",
        "\n",
        "    Onset_Valt = (ST_T_onset + np.round(np.random.randn(len(ST_T_onset)) * jitter_std)).astype(int)\n",
        "\n",
        "    #Onset_Valt = ST_T_onset + np.round(np.random.normal(0, jitter_std, size=len(ST_T_onset))).astype(int)\n",
        "\n",
        "    ecg_with_TWA, Alt_waves = include_TWA(clean_ecg, Onset_Valt, alpha * Alternan_wave, TWA_pattern, type_of_inclusion)\n",
        "\n",
        "    V0 = np.max(np.abs(alpha * Alternan_wave)) * 1e3  # Alternan wave amplitude in microvolts\n",
        "    if type_of_inclusion.lower() == 'alternate':\n",
        "        V0 = 2 * V0\n",
        "\n",
        "    return ecg_with_TWA, Alt_waves, Alternan_wave, alpha, Onset_Valt"
      ],
      "metadata": {
        "id": "tXYL8GP1mGOK"
      },
      "execution_count": null,
      "outputs": []
    },
    {
      "cell_type": "markdown",
      "source": [
        "#### Methods function"
      ],
      "metadata": {
        "id": "l3JwInPaFx-d"
      }
    },
    {
      "cell_type": "code",
      "source": [
        "import numpy as np\n",
        "\n",
        "def SM_TWA(M_Wind):\n",
        "    \"\"\"\n",
        "    This function applies the enhanced spectral method (SM) explained in:\n",
        "\n",
        "    MG Fernández-Calvillo et all, \"Machine Learning approach for TWA detection relying on ensemble data design,\" Heliyon, Vol. 9, no. 1, Jan 2023.\n",
        "\n",
        "    The method can work over either ST-T complexes or differential ST-T complexes. The SM estimates the power spectrum density of each beat\n",
        "    series Sj by means of the periodogram:\n",
        "\n",
        "             Pj=(1/M)|FFT({Sj})|^2\n",
        "\n",
        "    where M stands for the number of heartbeats taken to apply the SM. The averaged power spectrum of the all beat series is:\n",
        "\n",
        "                 P=(1/N)?Pj\n",
        "\n",
        "    Parameters:\n",
        "        M_Wind (array): Array containing the signal corresponding to one window.\n",
        "\n",
        "    Returns:\n",
        "        AverPSD (array): Averaged spectrum.\n",
        "        K_score (float): TWAR value.\n",
        "        Valt (float): Estimated alternant wave.\n",
        "    \"\"\"\n",
        "\n",
        "    M = len(M_Wind['0'])\n",
        "    N = len(M_Wind['0'][0])\n",
        "\n",
        "    L = 2 ** np.ceil(np.log2(M))  # Resolution of the FFT.\n",
        "\n",
        "\n",
        "    PSD_BeatSeries = np.abs(np.fft.fft(M_Wind['0'], L, axis=0)) ** 2\n",
        "    AverPSD = np.mean(PSD_BeatSeries, axis=1) / (M * N)\n",
        "\n",
        "    noise_band = AverPSD[int(0.66 * ((L / 2)-1)):int(0.96 * ((L / 2)-1))]\n",
        "\n",
        "\n",
        "    noise_mean = np.mean(noise_band)\n",
        "\n",
        "    noise_std = np.std(noise_band)\n",
        "\n",
        "    T = AverPSD[1 + int(((L / 2)-1))]\n",
        "\n",
        "    K_score = (T - noise_mean) / noise_std\n",
        "\n",
        "    if K_score > 0:\n",
        "        Valt = np.sqrt(T - noise_mean) / np.sqrt(M)  # The division by sqrt(M) is to compensate a weighting factor.\n",
        "    else:\n",
        "        Valt = 0\n",
        "\n",
        "\n",
        "\n",
        "    return AverPSD, K_score, Valt\n"
      ],
      "metadata": {
        "id": "Rrt_M9uZNzcx"
      },
      "execution_count": null,
      "outputs": []
    },
    {
      "cell_type": "code",
      "source": [
        "import numpy as np\n",
        "\n",
        "def TimeMethod_TWA(M_Wind):\n",
        "    \"\"\"\n",
        "    This function applies the Time Method to detect TWA, as reported in:\n",
        "\n",
        "    MG Fernández-Calvillo et all, \"Machine Learning approach for TW detection relying on ensemble data design,\" Heliyon, Vol.9, No. 1, Jan 2023.\n",
        "\n",
        "    Parameters:\n",
        "        M_Wind (array): Array containing the signal corresponding to one window of ST-ST complexes.\n",
        "\n",
        "    Returns:\n",
        "        Valt_est (float): Estimated TWA voltage (in microV).\n",
        "        Valt_wave_est (array): ML estimate of the alternant wave (in microV).\n",
        "    \"\"\"\n",
        "\n",
        "    M_Wind = np.array(M_Wind)  # Convert the list to a NumPy array\n",
        "\n",
        "\n",
        "    Valt_wave_est = np.mean(M_Wind[::2, :], axis=0) - np.mean(M_Wind[1::2, :], axis=0)\n",
        "    Valt_est = np.max(np.abs(Valt_wave_est)) * 0.5 * 1e3\n",
        "\n",
        "    return Valt_est, Valt_wave_est"
      ],
      "metadata": {
        "id": "ayZsvGNZMkJb"
      },
      "execution_count": null,
      "outputs": []
    },
    {
      "cell_type": "markdown",
      "source": [
        "## 1.- Analysis System"
      ],
      "metadata": {
        "id": "4bIWL3ju6-kS"
      }
    },
    {
      "cell_type": "markdown",
      "source": [
        "###Create a list from all of the signals"
      ],
      "metadata": {
        "id": "mW3q7dm8M6X1"
      }
    },
    {
      "cell_type": "code",
      "source": [
        "import os\n",
        "import json\n",
        "from google.colab import drive\n",
        "from scipy.io import loadmat\n",
        "\n",
        "from google.colab import drive\n",
        "from scipy.io import loadmat\n",
        "\n",
        "from google.colab import drive\n",
        "drive.mount('/content/drive')\n",
        "ruta_archivo = \"/content/drive/MyDrive/35muV_filtered_signals.json\"\n",
        "with open(ruta_archivo, \"r\") as archivo:\n",
        "    all_filtered = json.load(archivo)"
      ],
      "metadata": {
        "id": "5af5gPb8CBTi",
        "colab": {
          "base_uri": "https://localhost:8080/"
        },
        "outputId": "eaeaeeab-9b80-484e-df84-fb440a1283f4"
      },
      "execution_count": null,
      "outputs": [
        {
          "output_type": "stream",
          "name": "stdout",
          "text": [
            "Drive already mounted at /content/drive; to attempt to forcibly remount, call drive.mount(\"/content/drive\", force_remount=True).\n"
          ]
        }
      ]
    },
    {
      "cell_type": "code",
      "source": [
        "print(all_filtered.keys())"
      ],
      "metadata": {
        "colab": {
          "base_uri": "https://localhost:8080/"
        },
        "id": "tYB3tb9bFfLG",
        "outputId": "85ed8a5a-84c8-46c3-8b14-5edff573948b"
      },
      "execution_count": null,
      "outputs": [
        {
          "output_type": "stream",
          "name": "stdout",
          "text": [
            "dict_keys(['Señales_sin_alternancias_nsrdb_16483_l1_s45.mat', 'Señales_sin_alternancias_nsrdb_16265_l2_s9.mat', 'Señales_sin_alternancias_nsrdb_16539_l2_s16.mat', 'Señales_sin_alternancias_nsrdb_16483_l1_s37.mat', 'Señales_sin_alternancias_nsrdb_16273_l2_s6.mat', 'Señales_sin_alternancias_nsrdb_16483_l1_s46.mat', 'Señales_sin_alternancias_nsrdb_16483_l1_s25.mat', 'Señales_sin_alternancias_nsrdb_16483_l2_s7.mat', 'Señales_sin_alternancias_nsrdb_16483_l1_s33.mat', 'Señales_sin_alternancias_nsrdb_16420_l1_s19.mat', 'Señales_sin_alternancias_nsrdb_16539_l1_s42.mat', 'Señales_sin_alternancias_nsrdb_16539_l1_s19.mat', 'Señales_sin_alternancias_nsrdb_16420_l2_s10.mat', 'Señales_sin_alternancias_nsrdb_16539_l1_s7.mat', 'Señales_sin_alternancias_nsrdb_16265_l1_s34.mat', 'Señales_sin_alternancias_nsrdb_16539_l2_s23.mat', 'Señales_sin_alternancias_nsrdb_16420_l1_s21.mat', 'Señales_sin_alternancias_nsrdb_16539_l2_s9.mat', 'Señales_sin_alternancias_nsrdb_16539_l1_s2.mat', 'Señales_sin_alternancias_nsrdb_16483_l2_s30.mat', 'Señales_sin_alternancias_nsrdb_16483_l2_s15.mat', 'Señales_sin_alternancias_nsrdb_16420_l2_s7.mat', 'Señales_sin_alternancias_nsrdb_16483_l2_s2.mat', 'Señales_sin_alternancias_nsrdb_16539_l1_s35.mat', 'Señales_sin_alternancias_nsrdb_16483_l1_s41.mat', 'Señales_sin_alternancias_nsrdb_16539_l1_s23.mat', 'Señales_sin_alternancias_nsrdb_16273_l2_s40.mat', 'Señales_sin_alternancias_nsrdb_16483_l1_s17.mat', 'Señales_sin_alternancias_nsrdb_16265_l2_s5.mat', 'Señales_sin_alternancias_nsrdb_16539_l1_s41.mat', 'Señales_sin_alternancias_nsrdb_16273_l2_s38.mat', 'Señales_sin_alternancias_nsrdb_16420_l2_s20.mat', 'Señales_sin_alternancias_nsrdb_16483_l1_s14.mat', 'Señales_sin_alternancias_nsrdb_16483_l1_s12.mat', 'Señales_sin_alternancias_nsrdb_16483_l2_s22.mat', 'Señales_sin_alternancias_nsrdb_16539_l1_s57.mat', 'Señales_sin_alternancias_nsrdb_16265_l2_s18.mat', 'Señales_sin_alternancias_nsrdb_16420_l1_s25.mat', 'Señales_sin_alternancias_nsrdb_16420_l2_s12.mat', 'Señales_sin_alternancias_nsrdb_16483_l1_s1.mat', 'Señales_sin_alternancias_nsrdb_16273_l2_s13.mat', 'Señales_sin_alternancias_nsrdb_16483_l2_s32.mat', 'Señales_sin_alternancias_nsrdb_16420_l2_s16.mat', 'Señales_sin_alternancias_nsrdb_16539_l1_s18.mat', 'Señales_sin_alternancias_nsrdb_16420_l1_s38.mat', 'Señales_sin_alternancias_nsrdb_16273_l2_s41.mat', 'Señales_sin_alternancias_nsrdb_16483_l1_s44.mat', 'Señales_sin_alternancias_nsrdb_16539_l1_s52.mat', 'Señales_sin_alternancias_nsrdb_16273_l2_s18.mat', 'Señales_sin_alternancias_nsrdb_16483_l2_s19.mat', 'Señales_sin_alternancias_nsrdb_16265_l1_s3.mat', 'Señales_sin_alternancias_nsrdb_16539_l2_s30.mat', 'Señales_sin_alternancias_nsrdb_16483_l1_s23.mat', 'Señales_sin_alternancias_nsrdb_16539_l1_s51.mat', 'Señales_sin_alternancias_nsrdb_16265_l2_s21.mat', 'Señales_sin_alternancias_nsrdb_16265_l2_s4.mat', 'Señales_sin_alternancias_nsrdb_16265_l1_s25.mat', 'Señales_sin_alternancias_nsrdb_16483_l2_s1.mat', 'Señales_sin_alternancias_nsrdb_16420_l1_s30.mat', 'Señales_sin_alternancias_nsrdb_16483_l2_s25.mat', 'Señales_sin_alternancias_nsrdb_16273_l2_s21.mat', 'Señales_sin_alternancias_nsrdb_16539_l1_s43.mat', 'Señales_sin_alternancias_nsrdb_16483_l2_s16.mat', 'Señales_sin_alternancias_nsrdb_16786_l1_s14.mat', 'Señales_sin_alternancias_nsrdb_16539_l1_s16.mat', 'Señales_sin_alternancias_nsrdb_16483_l2_s17.mat', 'Señales_sin_alternancias_nsrdb_16539_l2_s31.mat', 'Señales_sin_alternancias_nsrdb_16539_l2_s5.mat', 'Señales_sin_alternancias_nsrdb_16539_l1_s49.mat', 'Señales_sin_alternancias_nsrdb_16539_l1_s5.mat', 'Señales_sin_alternancias_nsrdb_16539_l1_s30.mat', 'Señales_sin_alternancias_nsrdb_16483_l2_s29.mat', 'Señales_sin_alternancias_nsrdb_16539_l2_s18.mat', 'Señales_sin_alternancias_nsrdb_16273_l2_s5.mat', 'Señales_sin_alternancias_nsrdb_16265_l1_s23.mat', 'Señales_sin_alternancias_nsrdb_16420_l1_s15.mat', 'Señales_sin_alternancias_nsrdb_16539_l1_s38.mat', 'Señales_sin_alternancias_nsrdb_16273_l2_s10.mat', 'Señales_sin_alternancias_nsrdb_16420_l2_s11.mat', 'Señales_sin_alternancias_nsrdb_16786_l1_s22.mat', 'Señales_sin_alternancias_nsrdb_16273_l2_s34.mat', 'Señales_sin_alternancias_nsrdb_16273_l2_s36.mat', 'Señales_sin_alternancias_nsrdb_16483_l2_s3.mat', 'Señales_sin_alternancias_nsrdb_16273_l2_s29.mat', 'Señales_sin_alternancias_nsrdb_16483_l1_s18.mat', 'Señales_sin_alternancias_nsrdb_16483_l1_s7.mat', 'Señales_sin_alternancias_nsrdb_16420_l1_s24.mat', 'Señales_sin_alternancias_nsrdb_16420_l1_s27.mat', 'Señales_sin_alternancias_nsrdb_16265_l1_s13.mat', 'Señales_sin_alternancias_nsrdb_16483_l1_s27.mat', 'Señales_sin_alternancias_nsrdb_16420_l2_s17.mat', 'Señales_sin_alternancias_nsrdb_16420_l2_s19.mat', 'Señales_sin_alternancias_nsrdb_16539_l1_s15.mat', 'Señales_sin_alternancias_nsrdb_16265_l1_s10.mat', 'Señales_sin_alternancias_nsrdb_16265_l1_s35.mat', 'Señales_sin_alternancias_nsrdb_16265_l2_s15.mat', 'Señales_sin_alternancias_nsrdb_16483_l1_s4.mat', 'Señales_sin_alternancias_nsrdb_16483_l1_s2.mat', 'Señales_sin_alternancias_nsrdb_16265_l1_s12.mat', 'Señales_sin_alternancias_nsrdb_16265_l1_s28.mat', 'Señales_sin_alternancias_nsrdb_16539_l1_s36.mat', 'Señales_sin_alternancias_nsrdb_16483_l2_s34.mat', 'Señales_sin_alternancias_nsrdb_16786_l1_s18.mat', 'Señales_sin_alternancias_nsrdb_16483_l1_s5.mat', 'Señales_sin_alternancias_nsrdb_16483_l1_s13.mat', 'Señales_sin_alternancias_nsrdb_16265_l2_s10.mat', 'Señales_sin_alternancias_nsrdb_16539_l1_s4.mat', 'Señales_sin_alternancias_nsrdb_16483_l1_s6.mat', 'Señales_sin_alternancias_nsrdb_16420_l1_s11.mat', 'Señales_sin_alternancias_nsrdb_16273_l2_s28.mat', 'Señales_sin_alternancias_nsrdb_16420_l1_s1.mat', 'Señales_sin_alternancias_nsrdb_16273_l2_s15.mat', 'Señales_sin_alternancias_nsrdb_16539_l1_s10.mat', 'Señales_sin_alternancias_nsrdb_16420_l1_s22.mat', 'Señales_sin_alternancias_nsrdb_16539_l1_s45.mat', 'Señales_sin_alternancias_nsrdb_16483_l1_s39.mat', 'Señales_sin_alternancias_nsrdb_16420_l1_s26.mat', 'Señales_sin_alternancias_nsrdb_16420_l1_s17.mat', 'Señales_sin_alternancias_nsrdb_16265_l2_s14.mat', 'Señales_sin_alternancias_nsrdb_16483_l1_s35.mat', 'Señales_sin_alternancias_nsrdb_16265_l1_s20.mat', 'Señales_sin_alternancias_nsrdb_16265_l2_s7.mat', 'Señales_sin_alternancias_nsrdb_16265_l1_s22.mat', 'Señales_sin_alternancias_nsrdb_16483_l1_s26.mat', 'Señales_sin_alternancias_nsrdb_16539_l2_s29.mat', 'Señales_sin_alternancias_nsrdb_16420_l1_s18.mat', 'Señales_sin_alternancias_nsrdb_16265_l2_s8.mat', 'Señales_sin_alternancias_nsrdb_16273_l2_s27.mat', 'Señales_sin_alternancias_nsrdb_16483_l2_s11.mat', 'Señales_sin_alternancias_nsrdb_16483_l2_s21.mat', 'Señales_sin_alternancias_nsrdb_16539_l1_s33.mat', 'Señales_sin_alternancias_nsrdb_16539_l1_s46.mat', 'Señales_sin_alternancias_nsrdb_16483_l1_s28.mat', 'Señales_sin_alternancias_nsrdb_16420_l2_s9.mat', 'Señales_sin_alternancias_nsrdb_16265_l2_s6.mat', 'Señales_sin_alternancias_nsrdb_16420_l1_s9.mat', 'Señales_sin_alternancias_nsrdb_16420_l1_s20.mat', 'Señales_sin_alternancias_nsrdb_16539_l2_s2.mat', 'Señales_sin_alternancias_nsrdb_16273_l2_s24.mat', 'Señales_sin_alternancias_nsrdb_16483_l1_s15.mat', 'Señales_sin_alternancias_nsrdb_16539_l2_s10.mat', 'Señales_sin_alternancias_nsrdb_16420_l1_s10.mat', 'Señales_sin_alternancias_nsrdb_16483_l2_s8.mat', 'Señales_sin_alternancias_nsrdb_16539_l1_s27.mat', 'Señales_sin_alternancias_nsrdb_16539_l1_s13.mat', 'Señales_sin_alternancias_nsrdb_16483_l1_s20.mat', 'Señales_sin_alternancias_nsrdb_16483_l1_s19.mat', 'Señales_sin_alternancias_nsrdb_16483_l1_s22.mat', 'Señales_sin_alternancias_nsrdb_16420_l1_s14.mat', 'Señales_sin_alternancias_nsrdb_16483_l1_s29.mat', 'Señales_sin_alternancias_nsrdb_16539_l1_s44.mat', 'Señales_sin_alternancias_nsrdb_16265_l1_s6.mat', 'Señales_sin_alternancias_nsrdb_16265_l1_s24.mat', 'Señales_sin_alternancias_nsrdb_16483_l1_s24.mat', 'Señales_sin_alternancias_nsrdb_16265_l1_s7.mat', 'Señales_sin_alternancias_nsrdb_16786_l1_s11.mat', 'Señales_sin_alternancias_nsrdb_16273_l2_s2.mat', 'Señales_sin_alternancias_nsrdb_16483_l1_s8.mat', 'Señales_sin_alternancias_nsrdb_16265_l1_s8.mat', 'Señales_sin_alternancias_nsrdb_16483_l1_s34.mat', 'Señales_sin_alternancias_nsrdb_16420_l1_s33.mat', 'Señales_sin_alternancias_nsrdb_16420_l1_s13.mat', 'Señales_sin_alternancias_nsrdb_16420_l1_s31.mat', 'Señales_sin_alternancias_nsrdb_16265_l2_s1.mat', 'Señales_sin_alternancias_nsrdb_16420_l1_s34.mat', 'Señales_sin_alternancias_nsrdb_16483_l1_s30.mat', 'Señales_sin_alternancias_nsrdb_16539_l1_s3.mat', 'Señales_sin_alternancias_nsrdb_16420_l1_s6.mat', 'Señales_sin_alternancias_nsrdb_16265_l1_s4.mat', 'Señales_sin_alternancias_nsrdb_16265_l1_s17.mat', 'Señales_sin_alternancias_nsrdb_16420_l2_s3.mat', 'Señales_sin_alternancias_nsrdb_16483_l2_s33.mat', 'Señales_sin_alternancias_nsrdb_16786_l1_s12.mat', 'Señales_sin_alternancias_nsrdb_16420_l1_s5.mat', 'Señales_sin_alternancias_nsrdb_16539_l2_s22.mat', 'Señales_sin_alternancias_nsrdb_16786_l1_s20.mat', 'Señales_sin_alternancias_nsrdb_16539_l1_s31.mat', 'Señales_sin_alternancias_nsrdb_16265_l2_s16.mat', 'Señales_sin_alternancias_nsrdb_16265_l2_s3.mat', 'Señales_sin_alternancias_nsrdb_16483_l2_s36.mat', 'Señales_sin_alternancias_nsrdb_16539_l1_s40.mat', 'Señales_sin_alternancias_nsrdb_16539_l2_s28.mat', 'Señales_sin_alternancias_nsrdb_16483_l1_s11.mat', 'Señales_sin_alternancias_nsrdb_16265_l1_s14.mat', 'Señales_sin_alternancias_nsrdb_16539_l1_s1.mat', 'Señales_sin_alternancias_nsrdb_16483_l1_s38.mat', 'Señales_sin_alternancias_nsrdb_16539_l1_s22.mat', 'Señales_sin_alternancias_nsrdb_16420_l2_s1.mat', 'Señales_sin_alternancias_nsrdb_16420_l1_s23.mat', 'Señales_sin_alternancias_nsrdb_16265_l1_s19.mat', 'Señales_sin_alternancias_nsrdb_16483_l2_s4.mat', 'Señales_sin_alternancias_nsrdb_16539_l1_s6.mat', 'Señales_sin_alternancias_nsrdb_16420_l1_s3.mat', 'Señales_sin_alternancias_nsrdb_16273_l2_s14.mat', 'Señales_sin_alternancias_nsrdb_16420_l1_s8.mat', 'Señales_sin_alternancias_nsrdb_16483_l2_s26.mat', 'Señales_sin_alternancias_nsrdb_16539_l1_s28.mat', 'Señales_sin_alternancias_nsrdb_16539_l1_s37.mat', 'Señales_sin_alternancias_nsrdb_16539_l1_s47.mat', 'Señales_sin_alternancias_nsrdb_16539_l1_s11.mat', 'Señales_sin_alternancias_nsrdb_16273_l2_s7.mat', 'Señales_sin_alternancias_nsrdb_16539_l1_s32.mat', 'Señales_sin_alternancias_nsrdb_16539_l1_s24.mat', 'Señales_sin_alternancias_nsrdb_16265_l1_s29.mat', 'Señales_sin_alternancias_nsrdb_16539_l2_s21.mat', 'Señales_sin_alternancias_nsrdb_16265_l1_s32.mat'])\n"
          ]
        }
      ]
    },
    {
      "cell_type": "code",
      "source": [
        "'''\n",
        "print(all_filtered['Señales_sin_alternancias_nsrdb_16420_l1_s3.mat']['0'])\n",
        "plt.plot(np.transpose(all_filtered['Señales_sin_alternancias_nsrdb_16420_l1_s3.mat']['0']))\n",
        "plt.show()\n",
        "'''"
      ],
      "metadata": {
        "colab": {
          "base_uri": "https://localhost:8080/",
          "height": 52
        },
        "id": "jLi3FJ0oEQcY",
        "outputId": "a9e6826e-93e0-45da-b968-43edf96d4216"
      },
      "execution_count": null,
      "outputs": [
        {
          "output_type": "execute_result",
          "data": {
            "text/plain": [
              "\"\\nprint(all_filtered['Señales_sin_alternancias_nsrdb_16420_l1_s3.mat']['0'])\\nplt.plot(np.transpose(all_filtered['Señales_sin_alternancias_nsrdb_16420_l1_s3.mat']['0']))\\nplt.show()\\n\""
            ],
            "application/vnd.google.colaboratory.intrinsic+json": {
              "type": "string"
            }
          },
          "metadata": {},
          "execution_count": 15
        }
      ]
    },
    {
      "cell_type": "markdown",
      "source": [
        "## 2.- Spectral Method\n",
        "\n",
        "The Spectral method is a commonly used technique for T-wave alternans (TWA) detection. It analyzes the spectral characteristics of the ECG signal to identify the presence of alternans. Here's an overview of the SM procedure:\n",
        "\n",
        "1. Compute the power spectral density (PSD) of the modified signal.\n",
        "2. Analyze the spectral components in specific frequency bands associated with alternans.\n",
        "3. Apply a thresholding technique to determine the presence or absence of alternans based on the spectral characteristics."
      ],
      "metadata": {
        "id": "YxPcgy1YIxt7"
      }
    },
    {
      "cell_type": "markdown",
      "source": [
        "### Step 1: Spectral Method - Calculate K-score for each signal\n",
        "\n",
        "`K_score` is a variable representing the TWAR (T-Wave Alternans Ratio) values obtained from the Spectral Method. It is a measure used to quantify the presence of T-wave alternans in the ECG signal. The value of `K_score` is calculated based on the power spectrum density estimation and the noise characteristics of the signal.\n",
        "\n",
        "The specific value of `K_score` indicates the significance of T-wave alternans in the analyzed segment. A higher `K_score` suggests a stronger presence of alternans, while a lower value indicates a weaker or negligible alternans. The threshold for determining the presence of alternans may vary depending on the specific application or criteria defined by the researcher.\n",
        "\n",
        "\n",
        "---\n",
        "\n",
        "The $V_{alt}$ measured in $\\mu$V, represents the square root of alternans power, which is defined as the difference between the power at the alternans frequency (0.5 cycles/beat) and the power at the noise frequency (0.44 and 0.49 cycles/beat). And also, it corresponds to the root mean square difference in the voltage between the overall mean beat and either the odd- numbered or even- numbered beats."
      ],
      "metadata": {
        "id": "XyxLcuIcZKYF"
      }
    },
    {
      "cell_type": "code",
      "source": [
        "\n",
        "# Create list to store K-scores\n",
        "K_scores = np.zeros(len(all_filtered))\n",
        "\n",
        "# Perform analysis\n",
        "for i, signal in enumerate(all_filtered.values()):\n",
        "    AverPSD, k_score, _ = SM_TWA(signal)\n",
        "\n",
        "    # Store K-score for each signal in list\n",
        "    K_scores[i] = k_score\n",
        "\n",
        "len(K_scores)"
      ],
      "metadata": {
        "id": "HPxeH6cGF-Br",
        "colab": {
          "base_uri": "https://localhost:8080/"
        },
        "outputId": "c2ead392-a02c-468e-ed21-fe9938482272"
      },
      "execution_count": null,
      "outputs": [
        {
          "output_type": "execute_result",
          "data": {
            "text/plain": [
              "206"
            ]
          },
          "metadata": {},
          "execution_count": 16
        }
      ]
    },
    {
      "cell_type": "code",
      "source": [
        "print(K_scores)"
      ],
      "metadata": {
        "colab": {
          "base_uri": "https://localhost:8080/"
        },
        "id": "8hhEE5PRNE87",
        "outputId": "375655a2-ab4b-4aef-dd0d-bd893bd74d35"
      },
      "execution_count": null,
      "outputs": [
        {
          "output_type": "stream",
          "name": "stdout",
          "text": [
            "[ 2.76393687e-01  4.59299882e+00  4.35303288e+01  6.49453433e+00\n",
            "  5.25905997e+00  4.95587351e+00  3.50301158e+00  1.41304139e+01\n",
            "  1.00156403e+01  2.25114188e+00  2.14717734e+01 -1.15848199e+00\n",
            "  1.52472746e+01  9.20055227e+00  6.70860939e+00  4.62653998e+01\n",
            " -1.74981322e+00  6.71347927e+00  3.44339283e+00  1.42301524e+01\n",
            "  1.48472619e+01 -2.05851062e-01 -5.67002980e-01  1.91458839e+00\n",
            "  5.30836776e+00 -9.46913091e-01  9.33866338e+00  2.74212965e+01\n",
            "  2.52416699e+00  4.16556783e+01  4.02536583e-01  2.84619196e+01\n",
            "  4.85125539e+01  1.19344576e+00  2.13167857e+01  6.75169436e+00\n",
            "  5.33581638e+01  2.16393998e+00  1.42757391e+01 -1.79973654e-01\n",
            " -7.83821823e-01  8.66791699e+00  1.27066804e+00  4.10759916e+00\n",
            "  3.46965371e+01  2.52268296e+01  8.37966057e+00  1.92157043e+01\n",
            "  5.67760665e+00  2.36667896e+01  2.70956789e-01  2.81328051e+01\n",
            "  4.78277662e+00  4.48217226e+01  6.29756918e+01  6.36680204e+00\n",
            "  3.82466807e+01  1.78655973e+00  1.49396912e+01  7.85064317e+00\n",
            "  1.45021111e+01  2.66301419e+01  7.39230459e+00  1.47476665e+01\n",
            " -7.81159940e-02  3.15379158e+00  1.53770085e+01  5.49108564e+01\n",
            "  2.40119189e+01  2.96397847e+01 -9.66646995e-01  4.99891417e+01\n",
            " -3.47191302e-01  1.00348487e+01  3.51772931e+00  6.05319591e+00\n",
            "  8.05969553e+00  2.11121955e+01  2.41917774e+01  9.76942119e+00\n",
            "  1.43689982e+01  6.32176719e+00  8.51095431e+00  6.23776497e+00\n",
            "  1.82039651e+00  6.71555469e+00 -4.45867781e-01  7.35341101e+00\n",
            "  9.92139821e+00  6.23591390e+00  2.05522104e+01  2.54065751e+00\n",
            "  1.11756600e+01  3.46003454e+01  4.17860659e+01  1.09533775e+01\n",
            "  5.95501694e+00 -1.10198241e+00  4.13022886e-01  1.86659034e+01\n",
            "  1.12597371e+00  1.25022648e+01  1.39351327e+00  1.91666328e-01\n",
            " -1.49260539e+00 -2.55668440e-01 -1.69350040e+00  2.67454121e-01\n",
            "  5.05104832e+00 -9.17395979e-01 -1.49854544e+00  4.20520138e+00\n",
            "  1.42947675e+00  4.71080971e-01 -3.68749073e+00  2.45829237e+00\n",
            "  3.39702348e+00 -4.58559035e-01  3.85842201e-01 -1.26449789e+00\n",
            " -2.22427790e+00  1.12322262e+00  2.58811772e+00 -2.27527646e-01\n",
            " -3.84818121e-01 -6.84519926e-01 -2.40249862e-01  1.52290354e+00\n",
            " -5.83449039e-01  6.31852860e-01  4.46160555e+00 -1.43815966e+00\n",
            " -1.95284714e+00  5.90508765e-01 -4.21235165e-01 -1.00191825e+00\n",
            " -7.68557993e-01 -2.61468918e-01 -1.32163609e+00  5.77755355e-01\n",
            "  9.59889942e+00 -1.00071761e+00 -1.29732088e+00 -7.33394010e-01\n",
            " -4.08693049e-01 -8.95646557e-01  3.73831041e-01  2.64357357e+00\n",
            " -7.06954554e-01  1.52453340e-01 -1.05033346e+00 -2.83164536e-01\n",
            "  7.46843067e-01  8.55827180e-01 -1.08237932e+00 -6.19413385e-01\n",
            "  4.78477052e-01 -2.59732526e-02 -2.82980096e-01  2.48045568e+00\n",
            "  4.12844371e+00  5.73807988e-01  4.80457519e-01  6.27958721e+00\n",
            " -8.86865546e-01  1.12433106e-01 -1.00644700e+00 -1.99318947e-03\n",
            "  3.62407266e-01 -1.28110132e+00 -8.61487263e-01 -2.54919366e+00\n",
            " -4.53361401e-01 -1.02382435e+00  4.99543509e-02 -9.37806108e-01\n",
            " -2.99588025e-01 -4.36256083e-01 -4.15374338e-01  1.59161168e-02\n",
            "  9.37463489e-01 -8.12236825e-02 -7.31832661e-01  9.38028405e-01\n",
            " -2.95699619e-01  6.60087177e+00 -7.16053695e-01 -1.37560786e+00\n",
            "  1.33937288e+01  3.57151868e-01 -8.04420430e-01  6.43227079e+00\n",
            " -6.99407506e-01  4.71102325e+00 -1.38673519e-01 -4.08495877e-01\n",
            " -8.57212810e-01 -2.76445020e-01  1.16166519e+00  7.10813153e+00\n",
            " -3.74769684e-02  4.37858362e-02 -2.99009682e-01 -4.54320737e-01\n",
            "  3.77584734e+00 -4.27088639e-01]\n"
          ]
        }
      ]
    },
    {
      "cell_type": "markdown",
      "source": [
        "### Step 2: Assign 0 or 1 based on K-score"
      ],
      "metadata": {
        "id": "C8_Y7VCuZcsA"
      }
    },
    {
      "cell_type": "code",
      "source": [
        "# Create definition to assign 0 or 1 based on K-score\n",
        "\n",
        "def assign_labels(K_score):\n",
        "    labels = []\n",
        "\n",
        "    for K_score in K_scores:\n",
        "        if K_score < 3:\n",
        "            labels.append(0)\n",
        "        else:\n",
        "            labels.append(1)\n",
        "\n",
        "    return labels"
      ],
      "metadata": {
        "id": "6aWyeIoGZg0C"
      },
      "execution_count": null,
      "outputs": []
    },
    {
      "cell_type": "code",
      "source": [
        "#apply definition 'assign_labels'\n",
        "labels = assign_labels(K_scores)\n",
        "\n",
        "count_0 = labels.count(0)\n",
        "count_1 = labels.count(1)\n",
        "\n",
        "print(\"Number of 0 labels:\", count_0)\n",
        "print(\"Number of 1 labels:\", count_1)\n"
      ],
      "metadata": {
        "id": "xob4we4xOF3Z",
        "colab": {
          "base_uri": "https://localhost:8080/"
        },
        "outputId": "a78d90c2-a869-4af9-c654-d98d92726f76"
      },
      "execution_count": null,
      "outputs": [
        {
          "output_type": "stream",
          "name": "stdout",
          "text": [
            "Number of 0 labels: 117\n",
            "Number of 1 labels: 89\n"
          ]
        }
      ]
    },
    {
      "cell_type": "markdown",
      "source": [
        "Compute the ratio of 1's and 0's for each half of the dictionary"
      ],
      "metadata": {
        "id": "jPXF9DU-9DVA"
      }
    },
    {
      "cell_type": "code",
      "source": [
        "first_half = labels[:len(labels) // 2]  # Extract the first half of labels\n",
        "len(first_half)\n",
        "\n",
        "num_ones = 0  # Initialize the count of 1's\n",
        "\n",
        "# Iterate over the first half of labels\n",
        "for label in first_half:\n",
        "    if label == 1:\n",
        "        num_ones += 1  # Increment the count if the label is 1\n",
        "\n",
        "ratio = num_ones / len(first_half)  # Calculate the ratio\n",
        "\n",
        "print(\"Ratio of 1's in the first half:\", ratio)\n",
        "print(num_ones)\n"
      ],
      "metadata": {
        "colab": {
          "base_uri": "https://localhost:8080/"
        },
        "id": "uX4ypR4C4MZx",
        "outputId": "60461205-5311-4cf0-b126-5cf2e4d5d07e"
      },
      "execution_count": null,
      "outputs": [
        {
          "output_type": "stream",
          "name": "stdout",
          "text": [
            "Ratio of 1's in the first half: 0.7378640776699029\n",
            "76\n"
          ]
        }
      ]
    },
    {
      "cell_type": "code",
      "source": [
        "second_half = labels[len(labels) // 2:]  # Extract the second half of labels\n",
        "num_uno_second_half = 0  # Initialize the count of 0's\n",
        "\n",
        "# Iterate over the second half of labels\n",
        "for label in second_half:\n",
        "    if label == 1:\n",
        "        num_uno_second_half += 1  # Increment the count if the label is 1\n",
        "\n",
        "ratio = num_uno_second_half / len(second_half)  # Calculate the ratio\n",
        "\n",
        "print(\"Ratio of 1's in the second half:\", ratio)\n",
        "print(num_uno_second_half)\n"
      ],
      "metadata": {
        "colab": {
          "base_uri": "https://localhost:8080/"
        },
        "id": "W--D9WLphKVS",
        "outputId": "05cabd39-fd3f-4c73-b694-5ff7a3e37557"
      },
      "execution_count": null,
      "outputs": [
        {
          "output_type": "stream",
          "name": "stdout",
          "text": [
            "Ratio of 1's in the second half: 0.1262135922330097\n",
            "13\n"
          ]
        }
      ]
    },
    {
      "cell_type": "code",
      "source": [
        "second_half = labels[len(labels) // 2:]  # Extract the second half of labels\n",
        "num_zero = 0  # Initialize the count of 0's\n",
        "\n",
        "# Iterate over the second half of labels\n",
        "for label in second_half:\n",
        "    if label == 0:\n",
        "        num_zero += 1  # Increment the count if the label is 0\n",
        "\n",
        "ratio = num_zero / len(second_half)  # Calculate the ratio\n",
        "\n",
        "print(\"Ratio of 0's in the second half:\", ratio)\n",
        "print(num_zero)\n",
        "\n",
        "\n",
        "#tiene sentido que el 89% sean 0 pues es la mitad sin alternancia"
      ],
      "metadata": {
        "colab": {
          "base_uri": "https://localhost:8080/"
        },
        "id": "_1sJtmel4Wut",
        "outputId": "04f63654-5398-4ea9-c971-a3ab74837b93"
      },
      "execution_count": null,
      "outputs": [
        {
          "output_type": "stream",
          "name": "stdout",
          "text": [
            "Ratio of 0's in the second half: 0.8737864077669902\n",
            "90\n"
          ]
        }
      ]
    },
    {
      "cell_type": "markdown",
      "source": [
        "### Step 3: Evaluate performance using confusion matrix and metrics\n",
        "\n",
        "To evaluate the performance of the SM and TM in detecting alternans, confusion matrix metrics such as Accuracy, Precision, Recall, and F1 score can be utilized. These metrics provide insights into the effectiveness of the detection methods in terms of true positive, false positive, true negative, and false negative rates. The confusion matrix can be constructed based on the ground truth alternans presence and the detection results obtained from the SM and MMA algorithms.\n"
      ],
      "metadata": {
        "id": "AER69f42Y6o3"
      }
    },
    {
      "cell_type": "code",
      "source": [
        "# Create definition to compute all metrics\n",
        "\n",
        "from sklearn.metrics import confusion_matrix, precision_score, accuracy_score, recall_score, f1_score\n",
        "\n",
        "def evaluate_performance(true_labels, predicted_labels):\n",
        "    confusion_mat = confusion_matrix(true_labels, predicted_labels)\n",
        "    precision = precision_score(true_labels, predicted_labels)\n",
        "    accuracy = accuracy_score(true_labels, predicted_labels)\n",
        "    recall = recall_score(true_labels, predicted_labels)\n",
        "    f1 = f1_score(true_labels, predicted_labels)\n",
        "\n",
        "    return confusion_mat, precision, accuracy, recall, f1\n"
      ],
      "metadata": {
        "id": "lhxHlXbjJCo0"
      },
      "execution_count": null,
      "outputs": []
    },
    {
      "cell_type": "code",
      "source": [
        "# Create a 'true labels' list that represents the perfect result\n",
        "\n",
        "true_labels = np.concatenate([np.ones(len(all_filtered) // 2), np.zeros(len(all_filtered) // 2)])\n",
        "\n",
        "\n",
        "len(true_labels)"
      ],
      "metadata": {
        "id": "UgnCCoEkP2Q_",
        "colab": {
          "base_uri": "https://localhost:8080/"
        },
        "outputId": "67639cc8-ce62-48d0-c2b1-f5dabeb2bbf0"
      },
      "execution_count": null,
      "outputs": [
        {
          "output_type": "execute_result",
          "data": {
            "text/plain": [
              "206"
            ]
          },
          "metadata": {},
          "execution_count": 24
        }
      ]
    },
    {
      "cell_type": "code",
      "source": [
        "true_labels"
      ],
      "metadata": {
        "colab": {
          "base_uri": "https://localhost:8080/"
        },
        "id": "g5vzcEVfLJ_N",
        "outputId": "8bc20660-22c8-4077-9a20-a4fab3108d10"
      },
      "execution_count": null,
      "outputs": [
        {
          "output_type": "execute_result",
          "data": {
            "text/plain": [
              "array([1., 1., 1., 1., 1., 1., 1., 1., 1., 1., 1., 1., 1., 1., 1., 1., 1.,\n",
              "       1., 1., 1., 1., 1., 1., 1., 1., 1., 1., 1., 1., 1., 1., 1., 1., 1.,\n",
              "       1., 1., 1., 1., 1., 1., 1., 1., 1., 1., 1., 1., 1., 1., 1., 1., 1.,\n",
              "       1., 1., 1., 1., 1., 1., 1., 1., 1., 1., 1., 1., 1., 1., 1., 1., 1.,\n",
              "       1., 1., 1., 1., 1., 1., 1., 1., 1., 1., 1., 1., 1., 1., 1., 1., 1.,\n",
              "       1., 1., 1., 1., 1., 1., 1., 1., 1., 1., 1., 1., 1., 1., 1., 1., 1.,\n",
              "       1., 0., 0., 0., 0., 0., 0., 0., 0., 0., 0., 0., 0., 0., 0., 0., 0.,\n",
              "       0., 0., 0., 0., 0., 0., 0., 0., 0., 0., 0., 0., 0., 0., 0., 0., 0.,\n",
              "       0., 0., 0., 0., 0., 0., 0., 0., 0., 0., 0., 0., 0., 0., 0., 0., 0.,\n",
              "       0., 0., 0., 0., 0., 0., 0., 0., 0., 0., 0., 0., 0., 0., 0., 0., 0.,\n",
              "       0., 0., 0., 0., 0., 0., 0., 0., 0., 0., 0., 0., 0., 0., 0., 0., 0.,\n",
              "       0., 0., 0., 0., 0., 0., 0., 0., 0., 0., 0., 0., 0., 0., 0., 0., 0.,\n",
              "       0., 0.])"
            ]
          },
          "metadata": {},
          "execution_count": 25
        }
      ]
    },
    {
      "cell_type": "code",
      "source": [
        "#Obtain metrics\n",
        "\n",
        "confusion_mat, precision, accuracy, recall, f1 = evaluate_performance(true_labels, labels)\n",
        "\n",
        "print(\"Confusion Matrix:\")\n",
        "print(confusion_mat)\n",
        "print(\"Precision:\", precision)\n",
        "print(\"Accuracy:\", accuracy)\n",
        "print(\"Recall:\", recall)\n",
        "print(\"F1-score:\", f1)"
      ],
      "metadata": {
        "id": "7dn1bao0P0Z7",
        "colab": {
          "base_uri": "https://localhost:8080/"
        },
        "outputId": "a4fbf4ff-f746-4999-b84d-c8d94621bc78"
      },
      "execution_count": null,
      "outputs": [
        {
          "output_type": "stream",
          "name": "stdout",
          "text": [
            "Confusion Matrix:\n",
            "[[90 13]\n",
            " [27 76]]\n",
            "Precision: 0.8539325842696629\n",
            "Accuracy: 0.8058252427184466\n",
            "Recall: 0.7378640776699029\n",
            "F1-score: 0.7916666666666666\n"
          ]
        }
      ]
    },
    {
      "cell_type": "code",
      "source": [
        "import matplotlib.pyplot as plt\n",
        "from sklearn import metrics\n",
        "\n",
        "cm_display = metrics.ConfusionMatrixDisplay(confusion_matrix = confusion_mat, display_labels = [False, True])\n",
        "\n",
        "cm_display.plot()\n",
        "plt.show()\n"
      ],
      "metadata": {
        "colab": {
          "base_uri": "https://localhost:8080/",
          "height": 455
        },
        "id": "pHIKEY1t3Qwo",
        "outputId": "18d00f1c-6d1d-4bc7-9d7e-45fe28ac99e4"
      },
      "execution_count": null,
      "outputs": [
        {
          "output_type": "display_data",
          "data": {
            "text/plain": [
              "<Figure size 640x480 with 2 Axes>"
            ],
            "image/png": "[encoded data removed]"
          },
          "metadata": {}
        }
      ]
    },
    {
      "cell_type": "markdown",
      "source": [
        "## 3.- Time Method\n",
        "\n",
        "One commonly used metric is the maximum absolute value of the alternant wave. This metric reflects the magnitude of the alternans and provides a quantitative measure of TWA amplitude"
      ],
      "metadata": {
        "id": "Y_PGYQKONO7Q"
      }
    },
    {
      "cell_type": "markdown",
      "source": [
        "### Step 1: Obtain the amplitude for every signal\n",
        "\n",
        "We have applied the TM to each half of the dictionary, in order to compare the mean amplitude wave and std of each half."
      ],
      "metadata": {
        "id": "48pr8JrWZr5o"
      }
    },
    {
      "cell_type": "code",
      "source": [
        "Valt_TM_est = np.zeros(len(all_filtered))  # Method predictor\n",
        "\n",
        "\n",
        "# Calculate the number of signals to iterate over (half of the dataset)\n",
        "half_dataset_size = len(all_filtered) // 2\n",
        "\n",
        "import itertools\n",
        "\n",
        "first_half = dict(itertools.islice(all_filtered.items(), 0, half_dataset_size))             # [0,102]\n",
        "second_half = dict(itertools.islice(all_filtered.items(), half_dataset_size, len(all_filtered)))       # [102, 206]\n",
        "\n",
        "\n",
        "# Apply temporal method to the first half\n",
        "for i, (signal_key, signal) in enumerate(first_half.items()):\n",
        "    X = signal['0']\n",
        "    Valt_TM_est[i], _ = TimeMethod_TWA(X)\n",
        "\n",
        "\n",
        "# Apply temporal method to the second half\n",
        "for i, (signal_key, signal) in enumerate(second_half.items()):\n",
        "    X = signal['0']\n",
        "    Valt_TM_est[half_dataset_size + i], _ = TimeMethod_TWA(X)\n",
        "\n"
      ],
      "metadata": {
        "id": "G9jehla6Rzhs"
      },
      "execution_count": null,
      "outputs": []
    },
    {
      "cell_type": "markdown",
      "source": [
        "### Step 2: Calculate mean amplitude and standard deviation for each half of the dataset"
      ],
      "metadata": {
        "id": "mN2PXq4XZyKo"
      }
    },
    {
      "cell_type": "code",
      "source": [
        "# Calculate mean and std for the first half\n",
        "mean_1st_half = np.mean(Valt_TM_est[:half_dataset_size])\n",
        "std_1st_half = np.std(Valt_TM_est[:half_dataset_size])\n",
        "\n",
        "# Calculate mean and std for the second half\n",
        "mean_2nd_half = np.mean(Valt_TM_est[half_dataset_size:])\n",
        "std_2nd_half = np.std(Valt_TM_est[half_dataset_size:])\n",
        "\n",
        "print(\"First Half:\")\n",
        "print(\"Mean Amplitude:\", mean_1st_half)\n",
        "print(\"Standard Deviation:\", std_1st_half)\n",
        "\n",
        "print(\"\\nSecond Half:\")\n",
        "print(\"Mean Amplitude:\", mean_2nd_half)\n",
        "print(\"Standard Deviation:\", std_2nd_half)\n",
        "\n",
        "# Compare mean and std\n",
        "if mean_1st_half > mean_2nd_half:\n",
        "    print(\"\\nMean amplitude of the first half is greater:\", mean_1st_half )\n",
        "else:\n",
        "    print(\"Mean amplitude of the second half is greater:\", mean_2nd_half)\n",
        "\n",
        "if std_1st_half > std_2nd_half:\n",
        "    print(\"Standard deviation of the first half is greater:\", std_1st_half)\n",
        "else:\n",
        "    print(\"Standard deviation of the second half is greater:\", std_2nd_half)\n"
      ],
      "metadata": {
        "colab": {
          "base_uri": "https://localhost:8080/"
        },
        "id": "InNiIqIAu9VZ",
        "outputId": "a0b2960d-9e36-4864-e0bc-4ce5a2e7c03b"
      },
      "execution_count": null,
      "outputs": [
        {
          "output_type": "stream",
          "name": "stdout",
          "text": [
            "First Half:\n",
            "Mean Amplitude: 28.381978473401585\n",
            "Standard Deviation: 8.303433241748726\n",
            "\n",
            "Second Half:\n",
            "Mean Amplitude: 14.909292628297308\n",
            "Standard Deviation: 8.876967537485074\n",
            "\n",
            "Mean amplitude of the first half is greater: 28.381978473401585\n",
            "Standard deviation of the second half is greater: 8.876967537485074\n"
          ]
        }
      ]
    },
    {
      "cell_type": "markdown",
      "source": [
        "### Step 3: Boxplots"
      ],
      "metadata": {
        "id": "MRBxKJQjFffX"
      }
    },
    {
      "cell_type": "code",
      "source": [
        "import matplotlib.pyplot as plt\n",
        "\n",
        "# Amplitude data for the group with alternans and the group without alternans\n",
        "group_with_alternans = Valt_TM_est[:half_dataset_size]\n",
        "group_without_alternans = Valt_TM_est[half_dataset_size:]\n",
        "\n",
        "# Create a list of data to be plotted\n",
        "data = [group_with_alternans, group_without_alternans]\n",
        "\n",
        "# Create a figure and axis\n",
        "fig, ax = plt.subplots()\n",
        "\n",
        "# Create the boxplot\n",
        "boxplot = ax.boxplot(data, patch_artist=True, notch=True)\n",
        "\n",
        "# Set boxplot colors\n",
        "colors = ['lightblue', 'lightgreen']\n",
        "for patch, color in zip(boxplot['boxes'], colors):\n",
        "    patch.set_facecolor(color)\n",
        "\n",
        "# Add labels and title\n",
        "ax.set_xticklabels(['Group with Alternans', 'Group without Alternans'])\n",
        "ax.set_ylabel('Amplitude')\n",
        "plt.title('Distribution of Amplitude at 35muV')\n",
        "\n",
        "# Show the plot\n",
        "plt.ylim(0,100)\n",
        "plt.show()"
      ],
      "metadata": {
        "colab": {
          "base_uri": "https://localhost:8080/",
          "height": 452
        },
        "id": "r28s2t3DjFBK",
        "outputId": "cc8382f9-05db-4a72-abf0-2fa5816fab71"
      },
      "execution_count": null,
      "outputs": [
        {
          "output_type": "display_data",
          "data": {
            "text/plain": [
              "<Figure size 640x480 with 1 Axes>"
            ],
            "image/png": "[encoded data removed]"
          },
          "metadata": {}
        }
      ]
    },
    {
      "cell_type": "markdown",
      "source": [
        "Thanks for reading up to this point! :)"
      ],
      "metadata": {
        "id": "0Wx4ut67-XUC"
      }
    }
  ],
  "metadata": {
    "colab": {
      "provenance": [],
      "collapsed_sections": [
        "iUpCFR21UjyQ"
      ]
    },
    "kernelspec": {
      "display_name": "Python 3",
      "name": "python3"
    },
    "language_info": {
      "name": "python"
    }
  },
  "nbformat": 4,
  "nbformat_minor": 0
}